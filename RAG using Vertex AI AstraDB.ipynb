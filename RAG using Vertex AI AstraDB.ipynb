{
 "cells": [
  {
   "cell_type": "markdown",
   "metadata": {
    "colab_type": "text",
    "id": "view-in-github"
   },
   "source": [
    "<a href=\"https://colab.research.google.com/github/sunnysavita10/Indepth-GENAI/blob/main/MultiModal%20RAG%20using%20Vertex%20AI%20AstraDB(Cassandra)%C2%A0%26%C2%A0Langchain.ipynb\" target=\"_parent\"><img src=\"https://colab.research.google.com/assets/colab-badge.svg\" alt=\"Open In Colab\"/></a>"
   ]
  },
  {
   "cell_type": "markdown",
   "id": "Su9UaTllPPyT",
   "metadata": {
    "id": "Su9UaTllPPyT"
   },
   "source": [
    "## Install Vertex AI SDK for Python"
   ]
  },
  {
   "cell_type": "code",
   "execution_count": null,
   "id": "f615f9fa",
   "metadata": {},
   "outputs": [],
   "source": [
    "!pip install --upgrade --user google-cloud-aiplatform"
   ]
  },
  {
   "cell_type": "code",
   "execution_count": null,
   "id": "2ad15c32",
   "metadata": {},
   "outputs": [],
   "source": [
    "!pip install ragstack-ai"
   ]
  },
  {
   "cell_type": "code",
   "execution_count": null,
   "id": "xh6SW67NmMaj",
   "metadata": {
    "id": "xh6SW67NmMaj"
   },
   "outputs": [],
   "source": [
    "PROJECT_ID = \"red-delight-346705\"\n",
    "LOCATION = \"us-central1\""
   ]
  },
  {
   "cell_type": "code",
   "execution_count": null,
   "id": "QiyrYIBKnElp",
   "metadata": {
    "colab": {
     "base_uri": "https://localhost:8080/",
     "height": 70
    },
    "id": "QiyrYIBKnElp",
    "outputId": "5f506fc5-2cb2-41df-cac4-7a7d8d260438"
   },
   "outputs": [
    {
     "data": {
      "application/vnd.google.colaboratory.intrinsic+json": {
       "type": "string"
      },
      "text/plain": [
       "'\\nPROJECT_ID = \"red-delight-346705\"\\nLOCATION = \"us-central1\\nASTRA_DB_API_ENDPOINT=\"https://d2357619-8f04-4cfd-bc3a-16e410893ba3-us-east-2.apps.astra.datastax.com\"\\nASTRA_DB_APPLICATION_TOKEN=\"AstraCS:hTmlZSqmAOUHSWZaeNqzEDOR:1128826e960e49c2508b3014ae7fa40e6b5d0490d8565702a30b4ea338083a4a\"\\n'"
      ]
     },
     "execution_count": 1,
     "metadata": {},
     "output_type": "execute_result"
    }
   ],
   "source": [
    "ASTRA_DB_API_ENDPOINT=\"https://79b63042-b3d1-4163-b10a-75c9979ebf59-us-east-2.apps.astra.datastax.com\"\n",
    "ASTRA_DB_APPLICATION_TOKEN=\"AstraCS:qtZxIFJmAWgJLKMBHsbvAzjb:66d4ef1337add84bdf44d90afac64a0f2d7d04899249d30e7038fe404c45687f\""
   ]
  },
  {
   "cell_type": "code",
   "execution_count": null,
   "id": "lKXWCbjHydhC",
   "metadata": {
    "colab": {
     "base_uri": "https://localhost:8080/"
    },
    "id": "lKXWCbjHydhC",
    "outputId": "1849aa94-63dd-4438-8fdc-82c1158234a6"
   },
   "outputs": [
    {
     "name": "stdout",
     "output_type": "stream",
     "text": [
      "Provide your GCP Project ID··········\n",
      "Provide your GCP Location··········\n",
      "Provide your Astra DB Endpoint··········\n",
      "Provide your Astra DB Token··········\n"
     ]
    }
   ],
   "source": [
    "import getpass, os, requests\n",
    "\n",
    "if \"GCP_PROJECT_ID\" not in os.environ:\n",
    "  os.environ[\"GCP_PROJECT_ID\"] = getpass.getpass(\"Provide your GCP Project ID\")\n",
    "\n",
    "if \"LOCATION\" not in os.environ:\n",
    "  os.environ[\"LOCATION\"] = getpass.getpass(\"Provide your GCP Location\")\n",
    "\n",
    "if \"ASTRA_DB_ENDPOINT\" not in os.environ:\n",
    "  os.environ[\"ASTRA_DB_ENDPOINT\"] = getpass.getpass(\"Provide your Astra DB Endpoint\")\n",
    "\n",
    "if \"ASTRA_DB_TOKEN\" not in os.environ:\n",
    "  os.environ[\"ASTRA_DB_TOKEN\"] = getpass.getpass(\"Provide your Astra DB Token\")"
   ]
  },
  {
   "cell_type": "markdown",
   "id": "mO8cqwwwRIJv",
   "metadata": {
    "id": "mO8cqwwwRIJv"
   },
   "source": [
    "## Authenticate your notebook environment ( Colab only )"
   ]
  },
  {
   "cell_type": "code",
   "execution_count": null,
   "id": "xCh2oo_LYFxf",
   "metadata": {
    "colab": {
     "base_uri": "https://localhost:8080/"
    },
    "id": "xCh2oo_LYFxf",
    "outputId": "3d586ed2-30bd-40dd-ab77-d80cce5c15ec"
   },
   "outputs": [
    {
     "name": "stdout",
     "output_type": "stream",
     "text": [
      "Updated property [core/project].\n"
     ]
    }
   ],
   "source": [
    "!gcloud config set project {os.getenv(\"GCP_PROJECT_ID\")}"
   ]
  },
  {
   "cell_type": "code",
   "execution_count": null,
   "id": "BWflD-lzRFgC",
   "metadata": {
    "id": "BWflD-lzRFgC"
   },
   "outputs": [],
   "source": [
    "import sys\n",
    "\n",
    "# Additional authentication is required for Google Colab\n",
    "if \"google.colab\" in sys.modules:\n",
    "    # Authenticate user to Google Cloud\n",
    "    from google.colab import auth\n",
    "\n",
    "    auth.authenticate_user()"
   ]
  },
  {
   "cell_type": "code",
   "execution_count": null,
   "id": "MpyaRy-JXqYx",
   "metadata": {
    "colab": {
     "base_uri": "https://localhost:8080/"
    },
    "id": "MpyaRy-JXqYx",
    "outputId": "b59285fb-ef6f-4230-8c73-8f59adcc585a"
   },
   "outputs": [
    {
     "name": "stdout",
     "output_type": "stream",
     "text": [
      "  Credentialed Accounts\n",
      "ACTIVE  ACCOUNT\n",
      "*       colab0@ineuron.ai\n",
      "\n",
      "To set the active account, run:\n",
      "    $ gcloud config set account `ACCOUNT`\n",
      "\n"
     ]
    }
   ],
   "source": [
    "!gcloud auth list"
   ]
  },
  {
   "cell_type": "markdown",
   "id": "Ef3YjVSsRp9Q",
   "metadata": {
    "id": "Ef3YjVSsRp9Q"
   },
   "source": [
    "## Set Google Cloud project information and initialize Vertex AI SDK"
   ]
  },
  {
   "cell_type": "code",
   "execution_count": null,
   "id": "C8iMCMkeYgGT",
   "metadata": {
    "id": "C8iMCMkeYgGT"
   },
   "outputs": [],
   "source": [
    "# Define project information\n",
    "PROJECT_ID=os.getenv(\"GCP_PROJECT_ID\")\n",
    "LOCATION=os.getenv(\"LOCATION\")"
   ]
  },
  {
   "cell_type": "code",
   "execution_count": null,
   "id": "G1MCN16ZRFR3",
   "metadata": {
    "id": "G1MCN16ZRFR3"
   },
   "outputs": [],
   "source": [
    "# Initialize Vertex AI\n",
    "import vertexai\n",
    "\n",
    "vertexai.init(project=PROJECT_ID, location=LOCATION)"
   ]
  },
  {
   "cell_type": "markdown",
   "id": "KOBAtIV3R8mY",
   "metadata": {
    "id": "KOBAtIV3R8mY"
   },
   "source": [
    "## Import libraries"
   ]
  },
  {
   "cell_type": "code",
   "execution_count": null,
   "id": "lXlozq1mQThR",
   "metadata": {
    "id": "lXlozq1mQThR"
   },
   "outputs": [],
   "source": [
    "from vertexai.preview.generative_models import (\n",
    "    GenerationConfig,\n",
    "    GenerativeModel,\n",
    "    HarmCategory,\n",
    "    HarmBlockThreshold,\n",
    "    Image,\n",
    "    Part\n",
    ")"
   ]
  },
  {
   "cell_type": "markdown",
   "id": "Pyza6kJuSCg_",
   "metadata": {
    "id": "Pyza6kJuSCg_"
   },
   "source": [
    "## Use the Gemini 1.0 Pro model\n",
    "\n",
    "The Gemini 1.0 Pro (`gemini-1.0-pro`) model is designed to handle natural language tasks, multi-turn text and code chat, and code generation.\n"
   ]
  },
  {
   "cell_type": "markdown",
   "id": "teZPcNCISLkQ",
   "metadata": {
    "id": "teZPcNCISLkQ"
   },
   "source": [
    "## Load the Gemini 1.0 Pro model"
   ]
  },
  {
   "cell_type": "code",
   "execution_count": null,
   "id": "kUB8nEGhQXMH",
   "metadata": {
    "id": "kUB8nEGhQXMH"
   },
   "outputs": [],
   "source": [
    "model = GenerativeModel(\"gemini-1.0-pro\")"
   ]
  },
  {
   "cell_type": "markdown",
   "id": "soDP_1kmSTSn",
   "metadata": {
    "id": "soDP_1kmSTSn"
   },
   "source": [
    "## Generate text from text prompts"
   ]
  },
  {
   "cell_type": "code",
   "execution_count": null,
   "id": "cvWMgCTZntYK",
   "metadata": {
    "id": "cvWMgCTZntYK"
   },
   "outputs": [],
   "source": [
    "responses = model.generate_content(\"Why is the sky blue?\", stream=True)"
   ]
  },
  {
   "cell_type": "code",
   "execution_count": null,
   "id": "xuwrxROoSESn",
   "metadata": {
    "colab": {
     "base_uri": "https://localhost:8080/"
    },
    "id": "xuwrxROoSESn",
    "outputId": "f3ad777a-13dc-499e-cc23-e899e39456ec"
   },
   "outputs": [
    {
     "name": "stdout",
     "output_type": "stream",
     "text": [
      "The sky appears blue due to a phenomenon called Rayleigh scattering. Sunlight is composed of all colors of the rainbow, each with a different wavelength. When sunlight enters the Earth's atmosphere, it interacts with the gas molecules present there. Blue light, with its shorter wavelength, is scattered more effectively by these molecules than other colors. This scattered blue light reaches our eyes from all directions in the sky, making it appear blue.\n",
      "\n",
      "Here's a more detailed explanation:\n",
      "\n",
      "1. **Sunlight:** Sunlight is a mixture of all colors, each with a different wavelength. Blue light has a shorter wavelength than other colors like red or yellow.\n",
      "2. **Earth's atmosphere:** The Earth has a blanket of gas surrounding it called the atmosphere. This atmosphere is made up of tiny particles, including nitrogen and oxygen molecules.\n",
      "3. **Rayleigh scattering:** When sunlight enters the atmosphere, it interacts with these gas molecules. The shorter wavelengths of blue light are scattered more effectively than longer wavelengths like red or yellow. This means that blue light gets redirected in all directions in the sky.\n",
      "4. **Blue sky:** The scattered blue light reaches our eyes from all directions in the sky, making it appear blue. Other colors, like red and yellow, are scattered less and tend to pass straight through the atmosphere, reaching our eyes directly from the sun.\n",
      "\n",
      "This scattering effect is also responsible for the reddish color of the sun during sunrise and sunset. As the sun is low on the horizon, sunlight has to travel through a thicker layer of atmosphere. This leads to more scattering of blue light, leaving the remaining colors, like red and orange, to dominate the sunlight reaching our eyes."
     ]
    }
   ],
   "source": [
    "for response in responses:\n",
    "    print(response.text, end=\"\")"
   ]
  },
  {
   "cell_type": "code",
   "execution_count": null,
   "id": "yYfeGQzMn0E4",
   "metadata": {
    "id": "yYfeGQzMn0E4"
   },
   "outputs": [],
   "source": [
    "prompt = \"\"\"Create a numbered list of 10 items. Each item in the list should be a trend in the tech industry.\n",
    "\n",
    "Each trend should be less than 5 words.\"\"\"  # try your own prompt\n"
   ]
  },
  {
   "cell_type": "code",
   "execution_count": null,
   "id": "F2FOUPIfn4jp",
   "metadata": {
    "id": "F2FOUPIfn4jp"
   },
   "outputs": [],
   "source": [
    "responses = model.generate_content(prompt, stream=True)"
   ]
  },
  {
   "cell_type": "code",
   "execution_count": null,
   "id": "yhtHW2wySENe",
   "metadata": {
    "colab": {
     "base_uri": "https://localhost:8080/"
    },
    "id": "yhtHW2wySENe",
    "outputId": "adf3ffdc-b7ca-4a73-c61d-6ce28279d22d"
   },
   "outputs": [
    {
     "name": "stdout",
     "output_type": "stream",
     "text": [
      "## 10 Tech Industry Trends:\n",
      "\n",
      "1. AI Personalization\n",
      "2. Metaverse Expansion\n",
      "3. Edge Computing Growth\n",
      "4. Quantum Computing Advancements\n",
      "5. Blockchain Security Focus\n",
      "6. Cybersecurity Mesh Architecture\n",
      "7. Hyperautomation Adoption\n",
      "8. Sustainable Tech Development\n",
      "9. Low-Code/No-Code Platforms\n",
      "10. Generative AI Applications"
     ]
    }
   ],
   "source": [
    "for response in responses:\n",
    "    print(response.text, end=\"\")"
   ]
  },
  {
   "cell_type": "markdown",
   "id": "lmoUexYKTFmj",
   "metadata": {
    "id": "lmoUexYKTFmj"
   },
   "source": [
    "## Model parameters\n",
    "\n",
    "Every prompt you send to the model includes parameter values that control how the model generates a response. The model can generate different results for different parameter values. You can experiment with different model parameters to see how the results change."
   ]
  },
  {
   "cell_type": "code",
   "execution_count": null,
   "id": "-96LHeIVoDVw",
   "metadata": {
    "id": "-96LHeIVoDVw"
   },
   "outputs": [],
   "source": [
    "generation_config = GenerationConfig(\n",
    "    temperature=0.9,\n",
    "    top_p=1.0,\n",
    "    top_k=32,\n",
    "    candidate_count=1,\n",
    "    max_output_tokens=8192,\n",
    ")\n"
   ]
  },
  {
   "cell_type": "code",
   "execution_count": null,
   "id": "9CyRucFooHMH",
   "metadata": {
    "id": "9CyRucFooHMH"
   },
   "outputs": [],
   "source": [
    "responses = model.generate_content(\n",
    "    \"Why is the sky blue?\",\n",
    "    generation_config=generation_config,\n",
    "    stream=True,\n",
    ")\n"
   ]
  },
  {
   "cell_type": "code",
   "execution_count": null,
   "id": "q4C71eAFSEK3",
   "metadata": {
    "colab": {
     "base_uri": "https://localhost:8080/"
    },
    "id": "q4C71eAFSEK3",
    "outputId": "a5e31697-a5f8-423b-e35e-3ddfafab0993"
   },
   "outputs": [
    {
     "name": "stdout",
     "output_type": "stream",
     "text": [
      "The sky is blue because of a phenomenon called **Rayleigh scattering**. Sunlight is made up of all the colors of the rainbow, but blue light has a shorter wavelength than other colors. When light enters the Earth's atmosphere, it interacts with the molecules in the air. These molecules scatter the light in all directions. However, because blue light has a shorter wavelength, it is scattered more easily than other colors. This is why we see a blue sky. \n",
      "\n",
      "Here are some additional details about Rayleigh scattering:\n",
      "\n",
      "* The intensity of the scattered light is inversely proportional to the fourth power of the wavelength. This means that blue light is scattered much more strongly than red light.\n",
      "* The amount of scattering also depends on the density of the atmosphere. The higher the density, the more scattering there is. This is why the sky is often a deeper blue at higher altitudes.\n",
      "* Rayleigh scattering is also responsible for the red and orange colors of sunrises and sunsets. When the sun is low in the sky, its light has to travel through more of the atmosphere. This means that more blue light is scattered away, leaving the red and orange colors behind.\n",
      "\n",
      "I hope this explanation helps!"
     ]
    }
   ],
   "source": [
    "for response in responses:\n",
    "    print(response.text, end=\"\")"
   ]
  },
  {
   "cell_type": "code",
   "execution_count": null,
   "id": "UxflQ0mWoZcu",
   "metadata": {
    "id": "UxflQ0mWoZcu"
   },
   "outputs": [],
   "source": [
    "source_img_data = requests.get('https://drive.google.com/uc?export=view&id=15ddcn-AIxpvRdWcFGvIr77XLWdo4Maof').content"
   ]
  },
  {
   "cell_type": "code",
   "execution_count": null,
   "id": "G2SNnO7JYtlu",
   "metadata": {
    "id": "G2SNnO7JYtlu"
   },
   "outputs": [],
   "source": [
    "with open('coffee_maker_part.png', 'wb') as handler:\n",
    "  handler.write(source_img_data)"
   ]
  },
  {
   "cell_type": "code",
   "execution_count": null,
   "id": "lYAFQWLFurTf",
   "metadata": {
    "id": "lYAFQWLFurTf"
   },
   "outputs": [],
   "source": [
    "from langchain_google_vertexai import ChatVertexAI"
   ]
  },
  {
   "cell_type": "code",
   "execution_count": null,
   "id": "h4_Cd_QP13jh",
   "metadata": {
    "id": "h4_Cd_QP13jh"
   },
   "outputs": [],
   "source": [
    "from langchain.schema.messages import HumanMessage\n",
    "from PIL import Image, ImageFile\n",
    "import os, sys\n"
   ]
  },
  {
   "cell_type": "code",
   "execution_count": null,
   "id": "Q5-GXhql2amH",
   "metadata": {
    "id": "Q5-GXhql2amH"
   },
   "outputs": [],
   "source": [
    "chat = ChatVertexAI(model_name=\"gemini-1.0-pro-vision\",safety_settings={\n",
    "        HarmCategory.HARM_CATEGORY_HATE_SPEECH: HarmBlockThreshold.BLOCK_LOW_AND_ABOVE\n",
    "    },)"
   ]
  },
  {
   "cell_type": "code",
   "execution_count": null,
   "id": "-5a4W_Os2iUo",
   "metadata": {
    "id": "-5a4W_Os2iUo"
   },
   "outputs": [],
   "source": [
    "image_message = {\n",
    "    \"type\": \"image_url\",\n",
    "    \"image_url\": {\"url\": \"coffee_maker_part.png\"},\n",
    "}\n",
    "text_message = {\n",
    "    \"type\": \"text\",\n",
    "    \"text\": \"What is this image? Share a link to purchase a replacement\",\n",
    "}"
   ]
  },
  {
   "cell_type": "code",
   "execution_count": null,
   "id": "d3_y9HUppFS3",
   "metadata": {
    "id": "d3_y9HUppFS3"
   },
   "outputs": [],
   "source": [
    "message = HumanMessage(content=[text_message, image_message])"
   ]
  },
  {
   "cell_type": "code",
   "execution_count": null,
   "id": "RO10SiFzpLX5",
   "metadata": {
    "colab": {
     "base_uri": "https://localhost:8080/"
    },
    "id": "RO10SiFzpLX5",
    "outputId": "6ef1c5c2-33a6-4f28-c30d-1332d3379599"
   },
   "outputs": [
    {
     "name": "stderr",
     "output_type": "stream",
     "text": [
      "/usr/local/lib/python3.10/dist-packages/langchain_core/_api/deprecation.py:119: LangChainDeprecationWarning: The method `BaseChatModel.__call__` was deprecated in langchain-core 0.1.7 and will be removed in 0.3.0. Use invoke instead.\n",
      "  warn_deprecated(\n"
     ]
    }
   ],
   "source": [
    "output = chat([message])"
   ]
  },
  {
   "cell_type": "code",
   "execution_count": null,
   "id": "8i96veBrYwim",
   "metadata": {
    "colab": {
     "base_uri": "https://localhost:8080/"
    },
    "id": "8i96veBrYwim",
    "outputId": "b90ee03e-51cf-4dac-d8e8-08971cbae5fd"
   },
   "outputs": [
    {
     "name": "stdout",
     "output_type": "stream",
     "text": [
      " This is a replacement filter basket for a Moka pot coffee maker. You can purchase a replacement here:\n",
      "\n",
      "https://www.amazon.com/Replacement-Filter-Basket-Moka-Express/dp/B07171163K/\n"
     ]
    }
   ],
   "source": [
    "print(output.content)"
   ]
  },
  {
   "cell_type": "code",
   "execution_count": null,
   "id": "s0kOfknRY20q",
   "metadata": {
    "colab": {
     "base_uri": "https://localhost:8080/",
     "height": 780
    },
    "id": "s0kOfknRY20q",
    "outputId": "98be1d6b-9791-4743-88c3-72193503d3a6"
   },
   "outputs": [
    {
     "data": {
      "application/vnd.google.colaboratory.intrinsic+json": {
       "summary": "{\n  \"name\": \"df\",\n  \"rows\": 15,\n  \"fields\": [\n    {\n      \"column\": \"name\",\n      \"properties\": {\n        \"dtype\": \"string\",\n        \"num_unique_values\": 14,\n        \"samples\": [\n          \"Filter 2 Cup Dual Wall 50mm\",\n          \"Water Tank Assembly\",\n          \"Saucer\"\n        ],\n        \"semantic_type\": \"\",\n        \"description\": \"\"\n      }\n    },\n    {\n      \"column\": \"url\",\n      \"properties\": {\n        \"dtype\": \"string\",\n        \"num_unique_values\": 15,\n        \"samples\": [\n          \"https://www.breville.com/us/en/parts-accessories/parts/sp0003231.html?sku=SP0003231\",\n          \"https://www.breville.com/us/en/parts-accessories/parts/sp0003225.html?sku=SP0003225\",\n          \"https://www.breville.com/us/en/parts-accessories/parts/sp0014946.html?sku=SP0014946\"\n        ],\n        \"semantic_type\": \"\",\n        \"description\": \"\"\n      }\n    },\n    {\n      \"column\": \"price\",\n      \"properties\": {\n        \"dtype\": \"string\",\n        \"num_unique_values\": 9,\n        \"samples\": [\n          \"16.95\",\n          \"4.99\",\n          \"24.95\"\n        ],\n        \"semantic_type\": \"\",\n        \"description\": \"\"\n      }\n    },\n    {\n      \"column\": \"image\",\n      \"properties\": {\n        \"dtype\": \"string\",\n        \"num_unique_values\": 15,\n        \"samples\": [\n          \"https://www.breville.com/content/dam/breville/au/catalog/products/images/sp0/sp0003231/tile.jpg\",\n          \"https://www.breville.com/content/dam/breville/ca/catalog/products/images/sp0/sp0003225/tile.jpg\",\n          \"https://www.breville.com/content/dam/breville/us/catalog/products/images/sp0/sp0014946/tile.jpg\"\n        ],\n        \"semantic_type\": \"\",\n        \"description\": \"\"\n      }\n    }\n  ]\n}",
       "type": "dataframe",
       "variable_name": "df"
      },
      "text/html": [
       "\n",
       "  <div id=\"df-861cf4b5-b07a-45dd-abe8-f5487d0e8724\" class=\"colab-df-container\">\n",
       "    <div>\n",
       "<style scoped>\n",
       "    .dataframe tbody tr th:only-of-type {\n",
       "        vertical-align: middle;\n",
       "    }\n",
       "\n",
       "    .dataframe tbody tr th {\n",
       "        vertical-align: top;\n",
       "    }\n",
       "\n",
       "    .dataframe thead th {\n",
       "        text-align: right;\n",
       "    }\n",
       "</style>\n",
       "<table border=\"1\" class=\"dataframe\">\n",
       "  <thead>\n",
       "    <tr style=\"text-align: right;\">\n",
       "      <th></th>\n",
       "      <th>name</th>\n",
       "      <th>url</th>\n",
       "      <th>price</th>\n",
       "      <th>image</th>\n",
       "    </tr>\n",
       "  </thead>\n",
       "  <tbody>\n",
       "    <tr>\n",
       "      <th>0</th>\n",
       "      <td>Saucer</td>\n",
       "      <td>https://www.breville.com/us/en/parts-accessori...</td>\n",
       "      <td>10.95</td>\n",
       "      <td>https://www.breville.com/content/dam/breville/...</td>\n",
       "    </tr>\n",
       "    <tr>\n",
       "      <th>1</th>\n",
       "      <td>Saucer Ceramic</td>\n",
       "      <td>https://www.breville.com/us/en/parts-accessori...</td>\n",
       "      <td>4.99</td>\n",
       "      <td>https://www.breville.com/content/dam/breville/...</td>\n",
       "    </tr>\n",
       "    <tr>\n",
       "      <th>2</th>\n",
       "      <td>Milk Jug Assembly</td>\n",
       "      <td>https://www.breville.com/us/en/parts-accessori...</td>\n",
       "      <td>14.95</td>\n",
       "      <td>https://www.breville.com/content/dam/breville/...</td>\n",
       "    </tr>\n",
       "    <tr>\n",
       "      <th>3</th>\n",
       "      <td>Handle Steam Wand Kit (New Version From 0735 PDC)</td>\n",
       "      <td>https://www.breville.com/us/en/parts-accessori...</td>\n",
       "      <td>8.95</td>\n",
       "      <td>https://www.breville.com/content/dam/breville/...</td>\n",
       "    </tr>\n",
       "    <tr>\n",
       "      <th>4</th>\n",
       "      <td>Spout Juice Small (From 0637 to 1041 PDC)</td>\n",
       "      <td>https://www.breville.com/us/en/parts-accessori...</td>\n",
       "      <td>10.95</td>\n",
       "      <td>https://www.breville.com/content/dam/breville/...</td>\n",
       "    </tr>\n",
       "    <tr>\n",
       "      <th>5</th>\n",
       "      <td>Cleaning Steam Wand</td>\n",
       "      <td>https://www.breville.com/us/en/parts-accessori...</td>\n",
       "      <td>6.95</td>\n",
       "      <td>https://www.breville.com/content/dam/breville/...</td>\n",
       "    </tr>\n",
       "    <tr>\n",
       "      <th>6</th>\n",
       "      <td>Jug Frothing</td>\n",
       "      <td>https://www.breville.com/us/en/parts-accessori...</td>\n",
       "      <td>24.95</td>\n",
       "      <td>https://assets.breville.com/cdn-cgi/image/widt...</td>\n",
       "    </tr>\n",
       "    <tr>\n",
       "      <th>7</th>\n",
       "      <td>Spoon Tamping 50mm</td>\n",
       "      <td>https://www.breville.com/us/en/parts-accessori...</td>\n",
       "      <td>8.95</td>\n",
       "      <td>https://assets.breville.com/cdn-cgi/image/widt...</td>\n",
       "    </tr>\n",
       "    <tr>\n",
       "      <th>8</th>\n",
       "      <td>Collar Grouphead 50mm</td>\n",
       "      <td>https://www.breville.com/us/en/parts-accessori...</td>\n",
       "      <td>6.95</td>\n",
       "      <td>https://assets.breville.com/cdn-cgi/image/widt...</td>\n",
       "    </tr>\n",
       "    <tr>\n",
       "      <th>9</th>\n",
       "      <td>Filter 2 Cup Dual Wall 50mm</td>\n",
       "      <td>https://www.breville.com/us/en/parts-accessori...</td>\n",
       "      <td>12.95</td>\n",
       "      <td>https://www.breville.com/content/dam/breville/...</td>\n",
       "    </tr>\n",
       "    <tr>\n",
       "      <th>10</th>\n",
       "      <td>Filter 1 Cup 50mm</td>\n",
       "      <td>https://www.breville.com/us/en/parts-accessori...</td>\n",
       "      <td>12.95</td>\n",
       "      <td>https://www.breville.com/content/dam/breville/...</td>\n",
       "    </tr>\n",
       "    <tr>\n",
       "      <th>11</th>\n",
       "      <td>Water Tank Assembly</td>\n",
       "      <td>https://www.breville.com/us/en/parts-accessori...</td>\n",
       "      <td>14.95</td>\n",
       "      <td>https://www.breville.com/content/dam/breville/...</td>\n",
       "    </tr>\n",
       "    <tr>\n",
       "      <th>12</th>\n",
       "      <td>Portafilter Assembly 50mm</td>\n",
       "      <td>https://www.breville.com/us/en/parts-accessori...</td>\n",
       "      <td>10.95</td>\n",
       "      <td>https://www.breville.com/content/dam/breville/...</td>\n",
       "    </tr>\n",
       "    <tr>\n",
       "      <th>13</th>\n",
       "      <td>Milk Jug Assembly</td>\n",
       "      <td>https://www.breville.com/us/en/parts-accessori...</td>\n",
       "      <td>16.95</td>\n",
       "      <td>https://www.breville.com/content/dam/breville/...</td>\n",
       "    </tr>\n",
       "    <tr>\n",
       "      <th>14</th>\n",
       "      <td>Filter 2 Cup 50mm</td>\n",
       "      <td>https://www.breville.com/us/en/parts-accessori...</td>\n",
       "      <td>11.95</td>\n",
       "      <td>https://www.breville.com/content/dam/breville/...</td>\n",
       "    </tr>\n",
       "  </tbody>\n",
       "</table>\n",
       "</div>\n",
       "    <div class=\"colab-df-buttons\">\n",
       "\n",
       "  <div class=\"colab-df-container\">\n",
       "    <button class=\"colab-df-convert\" onclick=\"convertToInteractive('df-861cf4b5-b07a-45dd-abe8-f5487d0e8724')\"\n",
       "            title=\"Convert this dataframe to an interactive table.\"\n",
       "            style=\"display:none;\">\n",
       "\n",
       "  <svg xmlns=\"http://www.w3.org/2000/svg\" height=\"24px\" viewBox=\"0 -960 960 960\">\n",
       "    <path d=\"M120-120v-720h720v720H120Zm60-500h600v-160H180v160Zm220 220h160v-160H400v160Zm0 220h160v-160H400v160ZM180-400h160v-160H180v160Zm440 0h160v-160H620v160ZM180-180h160v-160H180v160Zm440 0h160v-160H620v160Z\"/>\n",
       "  </svg>\n",
       "    </button>\n",
       "\n",
       "  <style>\n",
       "    .colab-df-container {\n",
       "      display:flex;\n",
       "      gap: 12px;\n",
       "    }\n",
       "\n",
       "    .colab-df-convert {\n",
       "      background-color: #E8F0FE;\n",
       "      border: none;\n",
       "      border-radius: 50%;\n",
       "      cursor: pointer;\n",
       "      display: none;\n",
       "      fill: #1967D2;\n",
       "      height: 32px;\n",
       "      padding: 0 0 0 0;\n",
       "      width: 32px;\n",
       "    }\n",
       "\n",
       "    .colab-df-convert:hover {\n",
       "      background-color: #E2EBFA;\n",
       "      box-shadow: 0px 1px 2px rgba(60, 64, 67, 0.3), 0px 1px 3px 1px rgba(60, 64, 67, 0.15);\n",
       "      fill: #174EA6;\n",
       "    }\n",
       "\n",
       "    .colab-df-buttons div {\n",
       "      margin-bottom: 4px;\n",
       "    }\n",
       "\n",
       "    [theme=dark] .colab-df-convert {\n",
       "      background-color: #3B4455;\n",
       "      fill: #D2E3FC;\n",
       "    }\n",
       "\n",
       "    [theme=dark] .colab-df-convert:hover {\n",
       "      background-color: #434B5C;\n",
       "      box-shadow: 0px 1px 3px 1px rgba(0, 0, 0, 0.15);\n",
       "      filter: drop-shadow(0px 1px 2px rgba(0, 0, 0, 0.3));\n",
       "      fill: #FFFFFF;\n",
       "    }\n",
       "  </style>\n",
       "\n",
       "    <script>\n",
       "      const buttonEl =\n",
       "        document.querySelector('#df-861cf4b5-b07a-45dd-abe8-f5487d0e8724 button.colab-df-convert');\n",
       "      buttonEl.style.display =\n",
       "        google.colab.kernel.accessAllowed ? 'block' : 'none';\n",
       "\n",
       "      async function convertToInteractive(key) {\n",
       "        const element = document.querySelector('#df-861cf4b5-b07a-45dd-abe8-f5487d0e8724');\n",
       "        const dataTable =\n",
       "          await google.colab.kernel.invokeFunction('convertToInteractive',\n",
       "                                                    [key], {});\n",
       "        if (!dataTable) return;\n",
       "\n",
       "        const docLinkHtml = 'Like what you see? Visit the ' +\n",
       "          '<a target=\"_blank\" href=https://colab.research.google.com/notebooks/data_table.ipynb>data table notebook</a>'\n",
       "          + ' to learn more about interactive tables.';\n",
       "        element.innerHTML = '';\n",
       "        dataTable['output_type'] = 'display_data';\n",
       "        await google.colab.output.renderOutput(dataTable, element);\n",
       "        const docLink = document.createElement('div');\n",
       "        docLink.innerHTML = docLinkHtml;\n",
       "        element.appendChild(docLink);\n",
       "      }\n",
       "    </script>\n",
       "  </div>\n",
       "\n",
       "\n",
       "<div id=\"df-e4d799c1-40ba-45aa-addf-bc779b3fbe77\">\n",
       "  <button class=\"colab-df-quickchart\" onclick=\"quickchart('df-e4d799c1-40ba-45aa-addf-bc779b3fbe77')\"\n",
       "            title=\"Suggest charts\"\n",
       "            style=\"display:none;\">\n",
       "\n",
       "<svg xmlns=\"http://www.w3.org/2000/svg\" height=\"24px\"viewBox=\"0 0 24 24\"\n",
       "     width=\"24px\">\n",
       "    <g>\n",
       "        <path d=\"M19 3H5c-1.1 0-2 .9-2 2v14c0 1.1.9 2 2 2h14c1.1 0 2-.9 2-2V5c0-1.1-.9-2-2-2zM9 17H7v-7h2v7zm4 0h-2V7h2v10zm4 0h-2v-4h2v4z\"/>\n",
       "    </g>\n",
       "</svg>\n",
       "  </button>\n",
       "\n",
       "<style>\n",
       "  .colab-df-quickchart {\n",
       "      --bg-color: #E8F0FE;\n",
       "      --fill-color: #1967D2;\n",
       "      --hover-bg-color: #E2EBFA;\n",
       "      --hover-fill-color: #174EA6;\n",
       "      --disabled-fill-color: #AAA;\n",
       "      --disabled-bg-color: #DDD;\n",
       "  }\n",
       "\n",
       "  [theme=dark] .colab-df-quickchart {\n",
       "      --bg-color: #3B4455;\n",
       "      --fill-color: #D2E3FC;\n",
       "      --hover-bg-color: #434B5C;\n",
       "      --hover-fill-color: #FFFFFF;\n",
       "      --disabled-bg-color: #3B4455;\n",
       "      --disabled-fill-color: #666;\n",
       "  }\n",
       "\n",
       "  .colab-df-quickchart {\n",
       "    background-color: var(--bg-color);\n",
       "    border: none;\n",
       "    border-radius: 50%;\n",
       "    cursor: pointer;\n",
       "    display: none;\n",
       "    fill: var(--fill-color);\n",
       "    height: 32px;\n",
       "    padding: 0;\n",
       "    width: 32px;\n",
       "  }\n",
       "\n",
       "  .colab-df-quickchart:hover {\n",
       "    background-color: var(--hover-bg-color);\n",
       "    box-shadow: 0 1px 2px rgba(60, 64, 67, 0.3), 0 1px 3px 1px rgba(60, 64, 67, 0.15);\n",
       "    fill: var(--button-hover-fill-color);\n",
       "  }\n",
       "\n",
       "  .colab-df-quickchart-complete:disabled,\n",
       "  .colab-df-quickchart-complete:disabled:hover {\n",
       "    background-color: var(--disabled-bg-color);\n",
       "    fill: var(--disabled-fill-color);\n",
       "    box-shadow: none;\n",
       "  }\n",
       "\n",
       "  .colab-df-spinner {\n",
       "    border: 2px solid var(--fill-color);\n",
       "    border-color: transparent;\n",
       "    border-bottom-color: var(--fill-color);\n",
       "    animation:\n",
       "      spin 1s steps(1) infinite;\n",
       "  }\n",
       "\n",
       "  @keyframes spin {\n",
       "    0% {\n",
       "      border-color: transparent;\n",
       "      border-bottom-color: var(--fill-color);\n",
       "      border-left-color: var(--fill-color);\n",
       "    }\n",
       "    20% {\n",
       "      border-color: transparent;\n",
       "      border-left-color: var(--fill-color);\n",
       "      border-top-color: var(--fill-color);\n",
       "    }\n",
       "    30% {\n",
       "      border-color: transparent;\n",
       "      border-left-color: var(--fill-color);\n",
       "      border-top-color: var(--fill-color);\n",
       "      border-right-color: var(--fill-color);\n",
       "    }\n",
       "    40% {\n",
       "      border-color: transparent;\n",
       "      border-right-color: var(--fill-color);\n",
       "      border-top-color: var(--fill-color);\n",
       "    }\n",
       "    60% {\n",
       "      border-color: transparent;\n",
       "      border-right-color: var(--fill-color);\n",
       "    }\n",
       "    80% {\n",
       "      border-color: transparent;\n",
       "      border-right-color: var(--fill-color);\n",
       "      border-bottom-color: var(--fill-color);\n",
       "    }\n",
       "    90% {\n",
       "      border-color: transparent;\n",
       "      border-bottom-color: var(--fill-color);\n",
       "    }\n",
       "  }\n",
       "</style>\n",
       "\n",
       "  <script>\n",
       "    async function quickchart(key) {\n",
       "      const quickchartButtonEl =\n",
       "        document.querySelector('#' + key + ' button');\n",
       "      quickchartButtonEl.disabled = true;  // To prevent multiple clicks.\n",
       "      quickchartButtonEl.classList.add('colab-df-spinner');\n",
       "      try {\n",
       "        const charts = await google.colab.kernel.invokeFunction(\n",
       "            'suggestCharts', [key], {});\n",
       "      } catch (error) {\n",
       "        console.error('Error during call to suggestCharts:', error);\n",
       "      }\n",
       "      quickchartButtonEl.classList.remove('colab-df-spinner');\n",
       "      quickchartButtonEl.classList.add('colab-df-quickchart-complete');\n",
       "    }\n",
       "    (() => {\n",
       "      let quickchartButtonEl =\n",
       "        document.querySelector('#df-e4d799c1-40ba-45aa-addf-bc779b3fbe77 button');\n",
       "      quickchartButtonEl.style.display =\n",
       "        google.colab.kernel.accessAllowed ? 'block' : 'none';\n",
       "    })();\n",
       "  </script>\n",
       "</div>\n",
       "    </div>\n",
       "  </div>\n"
      ],
      "text/plain": [
       "                                                 name  \\\n",
       "0                                              Saucer   \n",
       "1                                      Saucer Ceramic   \n",
       "2                                   Milk Jug Assembly   \n",
       "3   Handle Steam Wand Kit (New Version From 0735 PDC)   \n",
       "4           Spout Juice Small (From 0637 to 1041 PDC)   \n",
       "5                                 Cleaning Steam Wand   \n",
       "6                                        Jug Frothing   \n",
       "7                                  Spoon Tamping 50mm   \n",
       "8                               Collar Grouphead 50mm   \n",
       "9                         Filter 2 Cup Dual Wall 50mm   \n",
       "10                                  Filter 1 Cup 50mm   \n",
       "11                                Water Tank Assembly   \n",
       "12                          Portafilter Assembly 50mm   \n",
       "13                                  Milk Jug Assembly   \n",
       "14                                  Filter 2 Cup 50mm   \n",
       "\n",
       "                                                  url  price  \\\n",
       "0   https://www.breville.com/us/en/parts-accessori...  10.95   \n",
       "1   https://www.breville.com/us/en/parts-accessori...   4.99   \n",
       "2   https://www.breville.com/us/en/parts-accessori...  14.95   \n",
       "3   https://www.breville.com/us/en/parts-accessori...   8.95   \n",
       "4   https://www.breville.com/us/en/parts-accessori...  10.95   \n",
       "5   https://www.breville.com/us/en/parts-accessori...   6.95   \n",
       "6   https://www.breville.com/us/en/parts-accessori...  24.95   \n",
       "7   https://www.breville.com/us/en/parts-accessori...   8.95   \n",
       "8   https://www.breville.com/us/en/parts-accessori...   6.95   \n",
       "9   https://www.breville.com/us/en/parts-accessori...  12.95   \n",
       "10  https://www.breville.com/us/en/parts-accessori...  12.95   \n",
       "11  https://www.breville.com/us/en/parts-accessori...  14.95   \n",
       "12  https://www.breville.com/us/en/parts-accessori...  10.95   \n",
       "13  https://www.breville.com/us/en/parts-accessori...  16.95   \n",
       "14  https://www.breville.com/us/en/parts-accessori...  11.95   \n",
       "\n",
       "                                                image  \n",
       "0   https://www.breville.com/content/dam/breville/...  \n",
       "1   https://www.breville.com/content/dam/breville/...  \n",
       "2   https://www.breville.com/content/dam/breville/...  \n",
       "3   https://www.breville.com/content/dam/breville/...  \n",
       "4   https://www.breville.com/content/dam/breville/...  \n",
       "5   https://www.breville.com/content/dam/breville/...  \n",
       "6   https://assets.breville.com/cdn-cgi/image/widt...  \n",
       "7   https://assets.breville.com/cdn-cgi/image/widt...  \n",
       "8   https://assets.breville.com/cdn-cgi/image/widt...  \n",
       "9   https://www.breville.com/content/dam/breville/...  \n",
       "10  https://www.breville.com/content/dam/breville/...  \n",
       "11  https://www.breville.com/content/dam/breville/...  \n",
       "12  https://www.breville.com/content/dam/breville/...  \n",
       "13  https://www.breville.com/content/dam/breville/...  \n",
       "14  https://www.breville.com/content/dam/breville/...  "
      ]
     },
     "execution_count": 31,
     "metadata": {},
     "output_type": "execute_result"
    }
   ],
   "source": [
    "import pandas as pd\n",
    "\n",
    "d = {'name': [\"Saucer\", \"Saucer Ceramic\", \"Milk Jug Assembly\", \"Handle Steam Wand Kit (New Version From 0735 PDC)\", \"Spout Juice Small (From 0637 to 1041 PDC)\", \"Cleaning Steam Wand\", \"Jug Frothing\", \"Spoon Tamping 50mm\", \"Collar Grouphead 50mm\", \"Filter 2 Cup Dual Wall 50mm\", \"Filter 1 Cup 50mm\", \"Water Tank Assembly\", \"Portafilter Assembly 50mm\", \"Milk Jug Assembly\", \"Filter 2 Cup 50mm\" ],\n",
    "     'url': [\"https://www.breville.com/us/en/parts-accessories/parts/sp0014946.html?sku=SP0014946\", \"https://www.breville.com/us/en/parts-accessories/parts/sp0014914.html?sku=SP0014914\", \"https://www.breville.com/us/en/parts-accessories/parts/sp0011391.html?sku=SP0011391\", \"https://www.breville.com/us/en/parts-accessories/parts/sp0010719.html?sku=SP0010719\", \"https://www.breville.com/us/en/parts-accessories/parts/sp0010718.html?sku=SP0010718\", \"https://www.breville.com/us/en/parts-accessories/parts/sp0003247.html?sku=SP0003247\", \"https://www.breville.com/us/en/parts-accessories/parts/sp0003246.html?sku=SP0003246\", \"https://www.breville.com/us/en/parts-accessories/parts/sp0003243.html?sku=SP0003243\", \"https://www.breville.com/us/en/parts-accessories/parts/sp0003232.html?sku=SP0003232\", \"https://www.breville.com/us/en/parts-accessories/parts/sp0003231.html?sku=SP0003231\", \"https://www.breville.com/us/en/parts-accessories/parts/sp0003230.html?sku=SP0003230\", \"https://www.breville.com/us/en/parts-accessories/parts/sp0003225.html?sku=SP0003225\", \"https://www.breville.com/us/en/parts-accessories/parts/sp0003216.html?sku=SP0003216\", \"https://www.breville.com/us/en/parts-accessories/parts/sp0001875.html?sku=SP0001875\", \"https://www.breville.com/us/en/parts-accessories/parts/sp0000166.html?sku=SP0000166\"],\n",
    "     'price': [\"10.95\", \"4.99\", \"14.95\", \"8.95\", \"10.95\", \"6.95\", \"24.95\", \"8.95\", \"6.95\", \"12.95\", \"12.95\", \"14.95\", \"10.95\", \"16.95\", \"11.95\"],\n",
    "     'image': [\"https://www.breville.com/content/dam/breville/us/catalog/products/images/sp0/sp0014946/tile.jpg\", \"https://www.breville.com/content/dam/breville/us/catalog/products/images/sp0/sp0014914/tile.jpg\", \"https://www.breville.com/content/dam/breville/us/catalog/products/images/sp0/sp0011391/tile.jpg\", \"https://www.breville.com/content/dam/breville/ca/catalog/products/images/sp0/sp0010719/tile.jpg\", \"https://www.breville.com/content/dam/breville/ca/catalog/products/images/sp0/sp0010718/tile.jpg\", \"https://www.breville.com/content/dam/breville/ca/catalog/products/images/sp0/sp0003247/tile.jpg\", \"https://assets.breville.com/cdn-cgi/image/width=400,format=auto/Spare+Parts+/Espresso+Machines/BES250/SP0003246/SP0003246_IMAGE1_400X400.jpg\", \"https://assets.breville.com/cdn-cgi/image/width=400,format=auto/Spare+Parts+/Espresso+Machines/ESP8/SP0003243/SP0003243_IMAGE1_400X400.jpg\", \"https://assets.breville.com/cdn-cgi/image/width=400,format=auto/Spare+Parts+/Espresso+Machines/ESP8/SP0003232/SP0003232_IMAGE1_400x400.jpg\", \"https://www.breville.com/content/dam/breville/au/catalog/products/images/sp0/sp0003231/tile.jpg\", \"https://www.breville.com/content/dam/breville/au/catalog/products/images/sp0/sp0003230/tile.jpg\", \"https://www.breville.com/content/dam/breville/ca/catalog/products/images/sp0/sp0003225/tile.jpg\", \"https://www.breville.com/content/dam/breville/ca/catalog/products/images/sp0/sp0003216/tile.jpg\", \"https://www.breville.com/content/dam/breville/au/catalog/products/images/sp0/sp0001875/tile.jpg\", \"https://www.breville.com/content/dam/breville/us/catalog/products/images/sp0/sp0000166/tile.jpg\"]}\n",
    "df = pd.DataFrame(data=d)\n",
    "df"
   ]
  },
  {
   "cell_type": "code",
   "execution_count": null,
   "id": "2fcMmT6x2_Fu",
   "metadata": {
    "id": "2fcMmT6x2_Fu"
   },
   "outputs": [],
   "source": [
    "import vertexai, json, requests\n",
    "from vertexai.preview.vision_models import MultiModalEmbeddingModel, Image\n",
    "from astrapy.db import AstraDB, AstraDBCollection\n",
    "from google.colab import files"
   ]
  },
  {
   "cell_type": "code",
   "execution_count": null,
   "id": "c5RNXJmb3BVw",
   "metadata": {
    "id": "c5RNXJmb3BVw"
   },
   "outputs": [],
   "source": [
    "model = MultiModalEmbeddingModel.from_pretrained(\"multimodalembedding@001\")"
   ]
  },
  {
   "cell_type": "code",
   "execution_count": null,
   "id": "MmAw9Z8D3EYM",
   "metadata": {
    "id": "MmAw9Z8D3EYM"
   },
   "outputs": [],
   "source": [
    "# Initialize our vector db\n",
    "astra_db = AstraDB(token=os.getenv(\"ASTRA_DB_TOKEN\"), api_endpoint=os.getenv(\"ASTRA_DB_ENDPOINT\"))"
   ]
  },
  {
   "cell_type": "code",
   "execution_count": null,
   "id": "rGf8tmF23Gxc",
   "metadata": {
    "id": "rGf8tmF23Gxc"
   },
   "outputs": [],
   "source": [
    "collection = astra_db.create_collection(collection_name=\"coffee_shop_ecommerce\", dimension=1408)"
   ]
  },
  {
   "cell_type": "code",
   "execution_count": null,
   "id": "Qc2D1qqvY6Jy",
   "metadata": {
    "id": "Qc2D1qqvY6Jy"
   },
   "outputs": [],
   "source": [
    "for i in range(len(df)):\n",
    "  name = df.loc[i, \"name\"]\n",
    "  image = df.loc[i, \"image\"]\n",
    "  price = df.loc[i, \"price\"]\n",
    "  url = df.loc[i, \"url\"]\n",
    "\n",
    "  # Download this product's image and save it to the Colab filesystem.\n",
    "  # In a production system this binary data would be stored in Google Cloud Storage\n",
    "  img_data = requests.get(image).content\n",
    "  with open(f'{name}.png', 'wb') as handler:\n",
    "    handler.write(img_data)\n",
    "\n",
    "  # load the image from filesystem and compute the embedding value\n",
    "  img = Image.load_from_file(f'{name}.png')\n",
    "  embeddings = model.get_embeddings(image=img, contextual_text=name)\n",
    "\n",
    "  try:\n",
    "    # add to the AstraDB Vector Database\n",
    "    collection.insert_one({\n",
    "        \"_id\": i,\n",
    "        \"name\": name,\n",
    "        \"image\": image,\n",
    "        \"url\": url,\n",
    "        \"price\": price,\n",
    "        \"$vector\": embeddings.image_embedding,\n",
    "      })\n",
    "  except Exception as error:\n",
    "    # if you've already added this record, skip the error message\n",
    "    error_info = json.loads(str(error))\n",
    "    if error_info[0]['errorCode'] == \"DOCUMENT_ALREADY_EXISTS\":\n",
    "      print(\"Document already exists in the database.  Skipping.\")"
   ]
  },
  {
   "cell_type": "code",
   "execution_count": null,
   "id": "A8OALWDt4alj",
   "metadata": {
    "id": "A8OALWDt4alj"
   },
   "outputs": [],
   "source": [
    "import json\n",
    "\n",
    "# Embed the similar item\n",
    "img = Image.load_from_file('coffee_maker_part.png')"
   ]
  },
  {
   "cell_type": "code",
   "execution_count": null,
   "id": "FYEBo0rO3uV9",
   "metadata": {
    "id": "FYEBo0rO3uV9"
   },
   "outputs": [],
   "source": [
    "embeddings = model.get_embeddings(image=img, contextual_text=\"A espresso machine part\")"
   ]
  },
  {
   "cell_type": "code",
   "execution_count": null,
   "id": "0da0a869",
   "metadata": {},
   "outputs": [],
   "source": [
    "embeddings.image_embedding"
   ]
  },
  {
   "cell_type": "code",
   "execution_count": null,
   "id": "UE6SRN1t3wEv",
   "metadata": {
    "id": "UE6SRN1t3wEv"
   },
   "outputs": [],
   "source": [
    "# Perform the vector search against AstraDB Vector\n",
    "documents = collection.vector_find(\n",
    "    embeddings.image_embedding,\n",
    "    limit=3,\n",
    ")"
   ]
  },
  {
   "cell_type": "code",
   "execution_count": null,
   "id": "b47f192a",
   "metadata": {},
   "outputs": [],
   "source": [
    "documents"
   ]
  },
  {
   "cell_type": "code",
   "execution_count": null,
   "id": "4eTwAQKH3yD6",
   "metadata": {
    "id": "4eTwAQKH3yD6"
   },
   "outputs": [],
   "source": [
    "related_products_csv = \"name, image, price, url\\n\"\n",
    "for doc in documents:\n",
    "  related_products_csv += f\"{doc['name']}, {doc['image']}, {doc['price']}, {doc['url']},\\n\""
   ]
  },
  {
   "cell_type": "code",
   "execution_count": null,
   "id": "T-A4o7wIrmTj",
   "metadata": {
    "colab": {
     "base_uri": "https://localhost:8080/"
    },
    "id": "T-A4o7wIrmTj",
    "outputId": "020b73b5-5520-4c00-92b0-af67b6d83f55"
   },
   "outputs": [
    {
     "name": "stdout",
     "output_type": "stream",
     "text": [
      "name, image, price, url\n",
      "Filter 2 Cup Dual Wall 50mm, https://www.breville.com/content/dam/breville/au/catalog/products/images/sp0/sp0003231/tile.jpg, 12.95, https://www.breville.com/us/en/parts-accessories/parts/sp0003231.html?sku=SP0003231,\n",
      "Filter 2 Cup 50mm, https://www.breville.com/content/dam/breville/us/catalog/products/images/sp0/sp0000166/tile.jpg, 11.95, https://www.breville.com/us/en/parts-accessories/parts/sp0000166.html?sku=SP0000166,\n",
      "Filter 1 Cup 50mm, https://www.breville.com/content/dam/breville/au/catalog/products/images/sp0/sp0003230/tile.jpg, 12.95, https://www.breville.com/us/en/parts-accessories/parts/sp0003230.html?sku=SP0003230,\n",
      "\n"
     ]
    }
   ],
   "source": [
    "print(related_products_csv)"
   ]
  },
  {
   "cell_type": "code",
   "execution_count": null,
   "id": "Li-fX8pz30kz",
   "metadata": {
    "id": "Li-fX8pz30kz"
   },
   "outputs": [],
   "source": [
    "image_message = {\n",
    "    \"type\": \"image_url\",\n",
    "    \"image_url\": {\"url\": \"/content/coffee_maker_part.png\"},\n",
    "}\n",
    "text_message = {\n",
    "    \"type\": \"text\",\n",
    "    \"text\": f\"What we have in this image? Share the URL and price to purchase a replacement. Here are related products {related_products_csv}\",\n",
    "}"
   ]
  },
  {
   "cell_type": "code",
   "execution_count": null,
   "id": "57KzUhbd4B2e",
   "metadata": {
    "id": "57KzUhbd4B2e"
   },
   "outputs": [],
   "source": [
    "message = HumanMessage(content=[text_message, image_message])\n"
   ]
  },
  {
   "cell_type": "code",
   "execution_count": null,
   "id": "Q7_Ktwg7tBTR",
   "metadata": {
    "id": "Q7_Ktwg7tBTR"
   },
   "outputs": [],
   "source": [
    "chat = ChatVertexAI(model_name=\"gemini-1.0-pro-vision\",safety_settings={\n",
    "        HarmCategory.HARM_CATEGORY_HATE_SPEECH: HarmBlockThreshold.BLOCK_LOW_AND_ABOVE\n",
    "    },)"
   ]
  },
  {
   "cell_type": "code",
   "execution_count": null,
   "id": "opNLdOPw4DTk",
   "metadata": {
    "id": "opNLdOPw4DTk"
   },
   "outputs": [],
   "source": [
    "output = chat([message])"
   ]
  },
  {
   "cell_type": "code",
   "execution_count": null,
   "id": "rUDI6iZyY-yc",
   "metadata": {
    "colab": {
     "base_uri": "https://localhost:8080/"
    },
    "id": "rUDI6iZyY-yc",
    "outputId": "41ffd1bf-68eb-4a74-c78d-a2367da381a1"
   },
   "outputs": [
    {
     "name": "stdout",
     "output_type": "stream",
     "text": [
      " The image shows a Breville 50mm filter basket. It can be purchased for $12.95 from the Breville website.\n",
      "\n",
      "Related products:\n",
      "Filter 2 Cup Dual Wall 50mm, https://www.breville.com/content/dam/breville/au/catalog/products/images/sp0/sp0003231/tile.jpg, 12.95, https://www.breville.com/us/en/parts-accessories/parts/sp0003231.html?sku=SP0003231,\n",
      "Filter 2 Cup 50mm, https://www.breville.com/content/dam/breville/us/catalog/products/images/sp0/sp0000166/tile.jpg, 11.95, https://www.breville.com/us/en/parts-accessories/parts/sp0000166.html?sku=SP0000166,\n",
      "Filter 1 Cup 50mm, https://www.breville.com/content/dam/breville/au/catalog/products/images/sp0/sp0003230/tile.jpg, 12.95, https://www.breville.com/us/en/parts-accessories/parts/sp0003230.html?sku=SP0003230,\n"
     ]
    }
   ],
   "source": [
    "print(output.content)"
   ]
  },
  {
   "cell_type": "code",
   "execution_count": null,
   "id": "SWqUjjMMWWfH",
   "metadata": {
    "id": "SWqUjjMMWWfH"
   },
   "outputs": [],
   "source": []
  }
 ],
 "metadata": {
  "accelerator": "GPU",
  "colab": {
   "gpuType": "T4",
   "include_colab_link": true,
   "provenance": []
  },
  "kernelspec": {
   "display_name": "Python 3",
   "name": "python3"
  },
  "language_info": {
   "codemirror_mode": {
    "name": "ipython",
    "version": 3
   },
   "file_extension": ".py",
   "mimetype": "text/x-python",
   "name": "python",
   "nbconvert_exporter": "python",
   "pygments_lexer": "ipython3",
   "version": "3.10.10"
  }
 },
 "nbformat": 4,
 "nbformat_minor": 5
}
